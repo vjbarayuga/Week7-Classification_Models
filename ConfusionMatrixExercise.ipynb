{
  "nbformat": 4,
  "nbformat_minor": 0,
  "metadata": {
    "colab": {
      "name": "ConfusionMatrixExercise.ipynb",
      "provenance": [],
      "collapsed_sections": [],
      "authorship_tag": "ABX9TyPZFOTWShcRQ67GDuhfKUUr",
      "include_colab_link": true
    },
    "kernelspec": {
      "name": "python3",
      "display_name": "Python 3"
    },
    "language_info": {
      "name": "python"
    }
  },
  "cells": [
    {
      "cell_type": "markdown",
      "metadata": {
        "id": "view-in-github",
        "colab_type": "text"
      },
      "source": [
        "<a href=\"https://colab.research.google.com/github/vjbarayuga/Week7-Classification_Models/blob/main/ConfusionMatrixExercise.ipynb\" target=\"_parent\"><img src=\"https://colab.research.google.com/assets/colab-badge.svg\" alt=\"Open In Colab\"/></a>"
      ]
    },
    {
      "cell_type": "code",
      "execution_count": 188,
      "metadata": {
        "colab": {
          "base_uri": "https://localhost:8080/"
        },
        "id": "M_CJlRfE7TZJ",
        "outputId": "53816185-7565-4231-9a3f-322e8e41e692"
      },
      "outputs": [
        {
          "output_type": "stream",
          "name": "stdout",
          "text": [
            "Drive already mounted at /content/drive; to attempt to forcibly remount, call drive.mount(\"/content/drive\", force_remount=True).\n"
          ]
        }
      ],
      "source": [
        "# mount google drive\n",
        "from google.colab import drive\n",
        "drive.mount('/content/drive')"
      ]
    },
    {
      "cell_type": "code",
      "source": [
        "import numpy as np\n",
        "import matplotlib.pyplot as plt \n",
        "\n",
        "import pandas as pd  \n",
        "import seaborn as sns \n",
        "\n",
        "%matplotlib inline\n",
        "\n",
        "from numpy import nan\n",
        "from numpy import isnan\n",
        "\n",
        "#pipeline\n",
        "from sklearn.pipeline import make_pipeline\n",
        "from sklearn.compose import make_column_transformer\n",
        "from sklearn.compose import make_column_selector\n",
        "from sklearn.compose import ColumnTransformer\n",
        "\n",
        "#for missing value and feature engineering\n",
        "from sklearn.impute import SimpleImputer\n",
        "from sklearn.preprocessing import KBinsDiscretizer, OneHotEncoder\n",
        "\n",
        "from sklearn.linear_model import LinearRegression\n",
        "from sklearn.model_selection import train_test_split\n",
        "from sklearn.metrics import r2_score\n",
        "from sklearn.metrics import mean_absolute_error\n",
        "from sklearn.metrics import mean_squared_error\n",
        "from sklearn.ensemble import RandomForestClassifier"
      ],
      "metadata": {
        "id": "7PkvUH48705P"
      },
      "execution_count": 189,
      "outputs": []
    },
    {
      "cell_type": "code",
      "source": [
        "# open filename\n",
        "filename = '/content/drive/MyDrive/Coding_DOJO-Data_Science_Bootcamp/04_Classification_Models/DATASET/cancer.csv'\n",
        "data = pd.read_csv(filename)\n",
        "data.head()"
      ],
      "metadata": {
        "colab": {
          "base_uri": "https://localhost:8080/",
          "height": 287
        },
        "id": "78HeK_l-74Lm",
        "outputId": "79714ce5-8605-4708-d407-671f82a217f2"
      },
      "execution_count": 190,
      "outputs": [
        {
          "output_type": "execute_result",
          "data": {
            "text/html": [
              "\n",
              "  <div id=\"df-789b0f8b-1696-484f-b687-3eca16348049\">\n",
              "    <div class=\"colab-df-container\">\n",
              "      <div>\n",
              "<style scoped>\n",
              "    .dataframe tbody tr th:only-of-type {\n",
              "        vertical-align: middle;\n",
              "    }\n",
              "\n",
              "    .dataframe tbody tr th {\n",
              "        vertical-align: top;\n",
              "    }\n",
              "\n",
              "    .dataframe thead th {\n",
              "        text-align: right;\n",
              "    }\n",
              "</style>\n",
              "<table border=\"1\" class=\"dataframe\">\n",
              "  <thead>\n",
              "    <tr style=\"text-align: right;\">\n",
              "      <th></th>\n",
              "      <th>id</th>\n",
              "      <th>diagnosis</th>\n",
              "      <th>radius_mean</th>\n",
              "      <th>texture_mean</th>\n",
              "      <th>perimeter_mean</th>\n",
              "      <th>area_mean</th>\n",
              "      <th>smoothness_mean</th>\n",
              "      <th>compactness_mean</th>\n",
              "      <th>concavity_mean</th>\n",
              "      <th>concave points_mean</th>\n",
              "      <th>symmetry_mean</th>\n",
              "      <th>fractal_dimension_mean</th>\n",
              "      <th>radius_se</th>\n",
              "      <th>texture_se</th>\n",
              "      <th>perimeter_se</th>\n",
              "      <th>area_se</th>\n",
              "      <th>smoothness_se</th>\n",
              "      <th>compactness_se</th>\n",
              "      <th>concavity_se</th>\n",
              "      <th>concave points_se</th>\n",
              "      <th>symmetry_se</th>\n",
              "      <th>fractal_dimension_se</th>\n",
              "      <th>radius_worst</th>\n",
              "      <th>texture_worst</th>\n",
              "      <th>perimeter_worst</th>\n",
              "      <th>area_worst</th>\n",
              "      <th>smoothness_worst</th>\n",
              "      <th>compactness_worst</th>\n",
              "      <th>concavity_worst</th>\n",
              "      <th>concave points_worst</th>\n",
              "      <th>symmetry_worst</th>\n",
              "      <th>fractal_dimension_worst</th>\n",
              "    </tr>\n",
              "  </thead>\n",
              "  <tbody>\n",
              "    <tr>\n",
              "      <th>0</th>\n",
              "      <td>842302</td>\n",
              "      <td>M</td>\n",
              "      <td>17.99</td>\n",
              "      <td>10.38</td>\n",
              "      <td>122.80</td>\n",
              "      <td>1001.0</td>\n",
              "      <td>0.11840</td>\n",
              "      <td>0.27760</td>\n",
              "      <td>0.3001</td>\n",
              "      <td>0.14710</td>\n",
              "      <td>0.2419</td>\n",
              "      <td>0.07871</td>\n",
              "      <td>1.0950</td>\n",
              "      <td>0.9053</td>\n",
              "      <td>8.589</td>\n",
              "      <td>153.40</td>\n",
              "      <td>0.006399</td>\n",
              "      <td>0.04904</td>\n",
              "      <td>0.05373</td>\n",
              "      <td>0.01587</td>\n",
              "      <td>0.03003</td>\n",
              "      <td>0.006193</td>\n",
              "      <td>25.38</td>\n",
              "      <td>17.33</td>\n",
              "      <td>184.60</td>\n",
              "      <td>2019.0</td>\n",
              "      <td>0.1622</td>\n",
              "      <td>0.6656</td>\n",
              "      <td>0.7119</td>\n",
              "      <td>0.2654</td>\n",
              "      <td>0.4601</td>\n",
              "      <td>0.11890</td>\n",
              "    </tr>\n",
              "    <tr>\n",
              "      <th>1</th>\n",
              "      <td>842517</td>\n",
              "      <td>M</td>\n",
              "      <td>20.57</td>\n",
              "      <td>17.77</td>\n",
              "      <td>132.90</td>\n",
              "      <td>1326.0</td>\n",
              "      <td>0.08474</td>\n",
              "      <td>0.07864</td>\n",
              "      <td>0.0869</td>\n",
              "      <td>0.07017</td>\n",
              "      <td>0.1812</td>\n",
              "      <td>0.05667</td>\n",
              "      <td>0.5435</td>\n",
              "      <td>0.7339</td>\n",
              "      <td>3.398</td>\n",
              "      <td>74.08</td>\n",
              "      <td>0.005225</td>\n",
              "      <td>0.01308</td>\n",
              "      <td>0.01860</td>\n",
              "      <td>0.01340</td>\n",
              "      <td>0.01389</td>\n",
              "      <td>0.003532</td>\n",
              "      <td>24.99</td>\n",
              "      <td>23.41</td>\n",
              "      <td>158.80</td>\n",
              "      <td>1956.0</td>\n",
              "      <td>0.1238</td>\n",
              "      <td>0.1866</td>\n",
              "      <td>0.2416</td>\n",
              "      <td>0.1860</td>\n",
              "      <td>0.2750</td>\n",
              "      <td>0.08902</td>\n",
              "    </tr>\n",
              "    <tr>\n",
              "      <th>2</th>\n",
              "      <td>84300903</td>\n",
              "      <td>M</td>\n",
              "      <td>19.69</td>\n",
              "      <td>21.25</td>\n",
              "      <td>130.00</td>\n",
              "      <td>1203.0</td>\n",
              "      <td>0.10960</td>\n",
              "      <td>0.15990</td>\n",
              "      <td>0.1974</td>\n",
              "      <td>0.12790</td>\n",
              "      <td>0.2069</td>\n",
              "      <td>0.05999</td>\n",
              "      <td>0.7456</td>\n",
              "      <td>0.7869</td>\n",
              "      <td>4.585</td>\n",
              "      <td>94.03</td>\n",
              "      <td>0.006150</td>\n",
              "      <td>0.04006</td>\n",
              "      <td>0.03832</td>\n",
              "      <td>0.02058</td>\n",
              "      <td>0.02250</td>\n",
              "      <td>0.004571</td>\n",
              "      <td>23.57</td>\n",
              "      <td>25.53</td>\n",
              "      <td>152.50</td>\n",
              "      <td>1709.0</td>\n",
              "      <td>0.1444</td>\n",
              "      <td>0.4245</td>\n",
              "      <td>0.4504</td>\n",
              "      <td>0.2430</td>\n",
              "      <td>0.3613</td>\n",
              "      <td>0.08758</td>\n",
              "    </tr>\n",
              "    <tr>\n",
              "      <th>3</th>\n",
              "      <td>84348301</td>\n",
              "      <td>M</td>\n",
              "      <td>11.42</td>\n",
              "      <td>20.38</td>\n",
              "      <td>77.58</td>\n",
              "      <td>386.1</td>\n",
              "      <td>0.14250</td>\n",
              "      <td>0.28390</td>\n",
              "      <td>0.2414</td>\n",
              "      <td>0.10520</td>\n",
              "      <td>0.2597</td>\n",
              "      <td>0.09744</td>\n",
              "      <td>0.4956</td>\n",
              "      <td>1.1560</td>\n",
              "      <td>3.445</td>\n",
              "      <td>27.23</td>\n",
              "      <td>0.009110</td>\n",
              "      <td>0.07458</td>\n",
              "      <td>0.05661</td>\n",
              "      <td>0.01867</td>\n",
              "      <td>0.05963</td>\n",
              "      <td>0.009208</td>\n",
              "      <td>14.91</td>\n",
              "      <td>26.50</td>\n",
              "      <td>98.87</td>\n",
              "      <td>567.7</td>\n",
              "      <td>0.2098</td>\n",
              "      <td>0.8663</td>\n",
              "      <td>0.6869</td>\n",
              "      <td>0.2575</td>\n",
              "      <td>0.6638</td>\n",
              "      <td>0.17300</td>\n",
              "    </tr>\n",
              "    <tr>\n",
              "      <th>4</th>\n",
              "      <td>84358402</td>\n",
              "      <td>M</td>\n",
              "      <td>20.29</td>\n",
              "      <td>14.34</td>\n",
              "      <td>135.10</td>\n",
              "      <td>1297.0</td>\n",
              "      <td>0.10030</td>\n",
              "      <td>0.13280</td>\n",
              "      <td>0.1980</td>\n",
              "      <td>0.10430</td>\n",
              "      <td>0.1809</td>\n",
              "      <td>0.05883</td>\n",
              "      <td>0.7572</td>\n",
              "      <td>0.7813</td>\n",
              "      <td>5.438</td>\n",
              "      <td>94.44</td>\n",
              "      <td>0.011490</td>\n",
              "      <td>0.02461</td>\n",
              "      <td>0.05688</td>\n",
              "      <td>0.01885</td>\n",
              "      <td>0.01756</td>\n",
              "      <td>0.005115</td>\n",
              "      <td>22.54</td>\n",
              "      <td>16.67</td>\n",
              "      <td>152.20</td>\n",
              "      <td>1575.0</td>\n",
              "      <td>0.1374</td>\n",
              "      <td>0.2050</td>\n",
              "      <td>0.4000</td>\n",
              "      <td>0.1625</td>\n",
              "      <td>0.2364</td>\n",
              "      <td>0.07678</td>\n",
              "    </tr>\n",
              "  </tbody>\n",
              "</table>\n",
              "</div>\n",
              "      <button class=\"colab-df-convert\" onclick=\"convertToInteractive('df-789b0f8b-1696-484f-b687-3eca16348049')\"\n",
              "              title=\"Convert this dataframe to an interactive table.\"\n",
              "              style=\"display:none;\">\n",
              "        \n",
              "  <svg xmlns=\"http://www.w3.org/2000/svg\" height=\"24px\"viewBox=\"0 0 24 24\"\n",
              "       width=\"24px\">\n",
              "    <path d=\"M0 0h24v24H0V0z\" fill=\"none\"/>\n",
              "    <path d=\"M18.56 5.44l.94 2.06.94-2.06 2.06-.94-2.06-.94-.94-2.06-.94 2.06-2.06.94zm-11 1L8.5 8.5l.94-2.06 2.06-.94-2.06-.94L8.5 2.5l-.94 2.06-2.06.94zm10 10l.94 2.06.94-2.06 2.06-.94-2.06-.94-.94-2.06-.94 2.06-2.06.94z\"/><path d=\"M17.41 7.96l-1.37-1.37c-.4-.4-.92-.59-1.43-.59-.52 0-1.04.2-1.43.59L10.3 9.45l-7.72 7.72c-.78.78-.78 2.05 0 2.83L4 21.41c.39.39.9.59 1.41.59.51 0 1.02-.2 1.41-.59l7.78-7.78 2.81-2.81c.8-.78.8-2.07 0-2.86zM5.41 20L4 18.59l7.72-7.72 1.47 1.35L5.41 20z\"/>\n",
              "  </svg>\n",
              "      </button>\n",
              "      \n",
              "  <style>\n",
              "    .colab-df-container {\n",
              "      display:flex;\n",
              "      flex-wrap:wrap;\n",
              "      gap: 12px;\n",
              "    }\n",
              "\n",
              "    .colab-df-convert {\n",
              "      background-color: #E8F0FE;\n",
              "      border: none;\n",
              "      border-radius: 50%;\n",
              "      cursor: pointer;\n",
              "      display: none;\n",
              "      fill: #1967D2;\n",
              "      height: 32px;\n",
              "      padding: 0 0 0 0;\n",
              "      width: 32px;\n",
              "    }\n",
              "\n",
              "    .colab-df-convert:hover {\n",
              "      background-color: #E2EBFA;\n",
              "      box-shadow: 0px 1px 2px rgba(60, 64, 67, 0.3), 0px 1px 3px 1px rgba(60, 64, 67, 0.15);\n",
              "      fill: #174EA6;\n",
              "    }\n",
              "\n",
              "    [theme=dark] .colab-df-convert {\n",
              "      background-color: #3B4455;\n",
              "      fill: #D2E3FC;\n",
              "    }\n",
              "\n",
              "    [theme=dark] .colab-df-convert:hover {\n",
              "      background-color: #434B5C;\n",
              "      box-shadow: 0px 1px 3px 1px rgba(0, 0, 0, 0.15);\n",
              "      filter: drop-shadow(0px 1px 2px rgba(0, 0, 0, 0.3));\n",
              "      fill: #FFFFFF;\n",
              "    }\n",
              "  </style>\n",
              "\n",
              "      <script>\n",
              "        const buttonEl =\n",
              "          document.querySelector('#df-789b0f8b-1696-484f-b687-3eca16348049 button.colab-df-convert');\n",
              "        buttonEl.style.display =\n",
              "          google.colab.kernel.accessAllowed ? 'block' : 'none';\n",
              "\n",
              "        async function convertToInteractive(key) {\n",
              "          const element = document.querySelector('#df-789b0f8b-1696-484f-b687-3eca16348049');\n",
              "          const dataTable =\n",
              "            await google.colab.kernel.invokeFunction('convertToInteractive',\n",
              "                                                     [key], {});\n",
              "          if (!dataTable) return;\n",
              "\n",
              "          const docLinkHtml = 'Like what you see? Visit the ' +\n",
              "            '<a target=\"_blank\" href=https://colab.research.google.com/notebooks/data_table.ipynb>data table notebook</a>'\n",
              "            + ' to learn more about interactive tables.';\n",
              "          element.innerHTML = '';\n",
              "          dataTable['output_type'] = 'display_data';\n",
              "          await google.colab.output.renderOutput(dataTable, element);\n",
              "          const docLink = document.createElement('div');\n",
              "          docLink.innerHTML = docLinkHtml;\n",
              "          element.appendChild(docLink);\n",
              "        }\n",
              "      </script>\n",
              "    </div>\n",
              "  </div>\n",
              "  "
            ],
            "text/plain": [
              "         id diagnosis  ...  symmetry_worst  fractal_dimension_worst\n",
              "0    842302         M  ...          0.4601                  0.11890\n",
              "1    842517         M  ...          0.2750                  0.08902\n",
              "2  84300903         M  ...          0.3613                  0.08758\n",
              "3  84348301         M  ...          0.6638                  0.17300\n",
              "4  84358402         M  ...          0.2364                  0.07678\n",
              "\n",
              "[5 rows x 32 columns]"
            ]
          },
          "metadata": {},
          "execution_count": 190
        }
      ]
    },
    {
      "cell_type": "code",
      "source": [
        "data.shape\n",
        "#print(\"Cancer data set dimensions : {}\".format(data.shape))"
      ],
      "metadata": {
        "colab": {
          "base_uri": "https://localhost:8080/"
        },
        "id": "husXjUNs8y2e",
        "outputId": "1da86922-ddd9-45e0-b9f4-750898f4c35a"
      },
      "execution_count": 191,
      "outputs": [
        {
          "output_type": "execute_result",
          "data": {
            "text/plain": [
              "(569, 32)"
            ]
          },
          "metadata": {},
          "execution_count": 191
        }
      ]
    },
    {
      "cell_type": "code",
      "source": [
        "data.columns"
      ],
      "metadata": {
        "colab": {
          "base_uri": "https://localhost:8080/"
        },
        "id": "OkBiwvIt9NkX",
        "outputId": "c7a5da04-36b3-47d5-9df9-6b840ee38d71"
      },
      "execution_count": 192,
      "outputs": [
        {
          "output_type": "execute_result",
          "data": {
            "text/plain": [
              "Index(['id', 'diagnosis', 'radius_mean', 'texture_mean', 'perimeter_mean',\n",
              "       'area_mean', 'smoothness_mean', 'compactness_mean', 'concavity_mean',\n",
              "       'concave points_mean', 'symmetry_mean', 'fractal_dimension_mean',\n",
              "       'radius_se', 'texture_se', 'perimeter_se', 'area_se', 'smoothness_se',\n",
              "       'compactness_se', 'concavity_se', 'concave points_se', 'symmetry_se',\n",
              "       'fractal_dimension_se', 'radius_worst', 'texture_worst',\n",
              "       'perimeter_worst', 'area_worst', 'smoothness_worst',\n",
              "       'compactness_worst', 'concavity_worst', 'concave points_worst',\n",
              "       'symmetry_worst', 'fractal_dimension_worst'],\n",
              "      dtype='object')"
            ]
          },
          "metadata": {},
          "execution_count": 192
        }
      ]
    },
    {
      "cell_type": "code",
      "source": [
        "data.describe()"
      ],
      "metadata": {
        "colab": {
          "base_uri": "https://localhost:8080/",
          "height": 382
        },
        "id": "D9cfbNnw9OxO",
        "outputId": "b6afffe9-a083-4a02-faba-ced0498b9d6b"
      },
      "execution_count": 193,
      "outputs": [
        {
          "output_type": "execute_result",
          "data": {
            "text/html": [
              "\n",
              "  <div id=\"df-f1c3df78-bcc4-47ed-8163-458e98281c22\">\n",
              "    <div class=\"colab-df-container\">\n",
              "      <div>\n",
              "<style scoped>\n",
              "    .dataframe tbody tr th:only-of-type {\n",
              "        vertical-align: middle;\n",
              "    }\n",
              "\n",
              "    .dataframe tbody tr th {\n",
              "        vertical-align: top;\n",
              "    }\n",
              "\n",
              "    .dataframe thead th {\n",
              "        text-align: right;\n",
              "    }\n",
              "</style>\n",
              "<table border=\"1\" class=\"dataframe\">\n",
              "  <thead>\n",
              "    <tr style=\"text-align: right;\">\n",
              "      <th></th>\n",
              "      <th>id</th>\n",
              "      <th>radius_mean</th>\n",
              "      <th>texture_mean</th>\n",
              "      <th>perimeter_mean</th>\n",
              "      <th>area_mean</th>\n",
              "      <th>smoothness_mean</th>\n",
              "      <th>compactness_mean</th>\n",
              "      <th>concavity_mean</th>\n",
              "      <th>concave points_mean</th>\n",
              "      <th>symmetry_mean</th>\n",
              "      <th>fractal_dimension_mean</th>\n",
              "      <th>radius_se</th>\n",
              "      <th>texture_se</th>\n",
              "      <th>perimeter_se</th>\n",
              "      <th>area_se</th>\n",
              "      <th>smoothness_se</th>\n",
              "      <th>compactness_se</th>\n",
              "      <th>concavity_se</th>\n",
              "      <th>concave points_se</th>\n",
              "      <th>symmetry_se</th>\n",
              "      <th>fractal_dimension_se</th>\n",
              "      <th>radius_worst</th>\n",
              "      <th>texture_worst</th>\n",
              "      <th>perimeter_worst</th>\n",
              "      <th>area_worst</th>\n",
              "      <th>smoothness_worst</th>\n",
              "      <th>compactness_worst</th>\n",
              "      <th>concavity_worst</th>\n",
              "      <th>concave points_worst</th>\n",
              "      <th>symmetry_worst</th>\n",
              "      <th>fractal_dimension_worst</th>\n",
              "    </tr>\n",
              "  </thead>\n",
              "  <tbody>\n",
              "    <tr>\n",
              "      <th>count</th>\n",
              "      <td>5.690000e+02</td>\n",
              "      <td>569.000000</td>\n",
              "      <td>569.000000</td>\n",
              "      <td>569.000000</td>\n",
              "      <td>569.000000</td>\n",
              "      <td>569.000000</td>\n",
              "      <td>569.000000</td>\n",
              "      <td>569.000000</td>\n",
              "      <td>569.000000</td>\n",
              "      <td>569.000000</td>\n",
              "      <td>569.000000</td>\n",
              "      <td>569.000000</td>\n",
              "      <td>569.000000</td>\n",
              "      <td>569.000000</td>\n",
              "      <td>569.000000</td>\n",
              "      <td>569.000000</td>\n",
              "      <td>569.000000</td>\n",
              "      <td>569.000000</td>\n",
              "      <td>569.000000</td>\n",
              "      <td>569.000000</td>\n",
              "      <td>569.000000</td>\n",
              "      <td>569.000000</td>\n",
              "      <td>569.000000</td>\n",
              "      <td>569.000000</td>\n",
              "      <td>569.000000</td>\n",
              "      <td>569.000000</td>\n",
              "      <td>569.000000</td>\n",
              "      <td>569.000000</td>\n",
              "      <td>569.000000</td>\n",
              "      <td>569.000000</td>\n",
              "      <td>569.000000</td>\n",
              "    </tr>\n",
              "    <tr>\n",
              "      <th>mean</th>\n",
              "      <td>3.037183e+07</td>\n",
              "      <td>14.127292</td>\n",
              "      <td>19.289649</td>\n",
              "      <td>91.969033</td>\n",
              "      <td>654.889104</td>\n",
              "      <td>0.096360</td>\n",
              "      <td>0.104341</td>\n",
              "      <td>0.088799</td>\n",
              "      <td>0.048919</td>\n",
              "      <td>0.181162</td>\n",
              "      <td>0.062798</td>\n",
              "      <td>0.405172</td>\n",
              "      <td>1.216853</td>\n",
              "      <td>2.866059</td>\n",
              "      <td>40.337079</td>\n",
              "      <td>0.007041</td>\n",
              "      <td>0.025478</td>\n",
              "      <td>0.031894</td>\n",
              "      <td>0.011796</td>\n",
              "      <td>0.020542</td>\n",
              "      <td>0.003795</td>\n",
              "      <td>16.269190</td>\n",
              "      <td>25.677223</td>\n",
              "      <td>107.261213</td>\n",
              "      <td>880.583128</td>\n",
              "      <td>0.132369</td>\n",
              "      <td>0.254265</td>\n",
              "      <td>0.272188</td>\n",
              "      <td>0.114606</td>\n",
              "      <td>0.290076</td>\n",
              "      <td>0.083946</td>\n",
              "    </tr>\n",
              "    <tr>\n",
              "      <th>std</th>\n",
              "      <td>1.250206e+08</td>\n",
              "      <td>3.524049</td>\n",
              "      <td>4.301036</td>\n",
              "      <td>24.298981</td>\n",
              "      <td>351.914129</td>\n",
              "      <td>0.014064</td>\n",
              "      <td>0.052813</td>\n",
              "      <td>0.079720</td>\n",
              "      <td>0.038803</td>\n",
              "      <td>0.027414</td>\n",
              "      <td>0.007060</td>\n",
              "      <td>0.277313</td>\n",
              "      <td>0.551648</td>\n",
              "      <td>2.021855</td>\n",
              "      <td>45.491006</td>\n",
              "      <td>0.003003</td>\n",
              "      <td>0.017908</td>\n",
              "      <td>0.030186</td>\n",
              "      <td>0.006170</td>\n",
              "      <td>0.008266</td>\n",
              "      <td>0.002646</td>\n",
              "      <td>4.833242</td>\n",
              "      <td>6.146258</td>\n",
              "      <td>33.602542</td>\n",
              "      <td>569.356993</td>\n",
              "      <td>0.022832</td>\n",
              "      <td>0.157336</td>\n",
              "      <td>0.208624</td>\n",
              "      <td>0.065732</td>\n",
              "      <td>0.061867</td>\n",
              "      <td>0.018061</td>\n",
              "    </tr>\n",
              "    <tr>\n",
              "      <th>min</th>\n",
              "      <td>8.670000e+03</td>\n",
              "      <td>6.981000</td>\n",
              "      <td>9.710000</td>\n",
              "      <td>43.790000</td>\n",
              "      <td>143.500000</td>\n",
              "      <td>0.052630</td>\n",
              "      <td>0.019380</td>\n",
              "      <td>0.000000</td>\n",
              "      <td>0.000000</td>\n",
              "      <td>0.106000</td>\n",
              "      <td>0.049960</td>\n",
              "      <td>0.111500</td>\n",
              "      <td>0.360200</td>\n",
              "      <td>0.757000</td>\n",
              "      <td>6.802000</td>\n",
              "      <td>0.001713</td>\n",
              "      <td>0.002252</td>\n",
              "      <td>0.000000</td>\n",
              "      <td>0.000000</td>\n",
              "      <td>0.007882</td>\n",
              "      <td>0.000895</td>\n",
              "      <td>7.930000</td>\n",
              "      <td>12.020000</td>\n",
              "      <td>50.410000</td>\n",
              "      <td>185.200000</td>\n",
              "      <td>0.071170</td>\n",
              "      <td>0.027290</td>\n",
              "      <td>0.000000</td>\n",
              "      <td>0.000000</td>\n",
              "      <td>0.156500</td>\n",
              "      <td>0.055040</td>\n",
              "    </tr>\n",
              "    <tr>\n",
              "      <th>25%</th>\n",
              "      <td>8.692180e+05</td>\n",
              "      <td>11.700000</td>\n",
              "      <td>16.170000</td>\n",
              "      <td>75.170000</td>\n",
              "      <td>420.300000</td>\n",
              "      <td>0.086370</td>\n",
              "      <td>0.064920</td>\n",
              "      <td>0.029560</td>\n",
              "      <td>0.020310</td>\n",
              "      <td>0.161900</td>\n",
              "      <td>0.057700</td>\n",
              "      <td>0.232400</td>\n",
              "      <td>0.833900</td>\n",
              "      <td>1.606000</td>\n",
              "      <td>17.850000</td>\n",
              "      <td>0.005169</td>\n",
              "      <td>0.013080</td>\n",
              "      <td>0.015090</td>\n",
              "      <td>0.007638</td>\n",
              "      <td>0.015160</td>\n",
              "      <td>0.002248</td>\n",
              "      <td>13.010000</td>\n",
              "      <td>21.080000</td>\n",
              "      <td>84.110000</td>\n",
              "      <td>515.300000</td>\n",
              "      <td>0.116600</td>\n",
              "      <td>0.147200</td>\n",
              "      <td>0.114500</td>\n",
              "      <td>0.064930</td>\n",
              "      <td>0.250400</td>\n",
              "      <td>0.071460</td>\n",
              "    </tr>\n",
              "    <tr>\n",
              "      <th>50%</th>\n",
              "      <td>9.060240e+05</td>\n",
              "      <td>13.370000</td>\n",
              "      <td>18.840000</td>\n",
              "      <td>86.240000</td>\n",
              "      <td>551.100000</td>\n",
              "      <td>0.095870</td>\n",
              "      <td>0.092630</td>\n",
              "      <td>0.061540</td>\n",
              "      <td>0.033500</td>\n",
              "      <td>0.179200</td>\n",
              "      <td>0.061540</td>\n",
              "      <td>0.324200</td>\n",
              "      <td>1.108000</td>\n",
              "      <td>2.287000</td>\n",
              "      <td>24.530000</td>\n",
              "      <td>0.006380</td>\n",
              "      <td>0.020450</td>\n",
              "      <td>0.025890</td>\n",
              "      <td>0.010930</td>\n",
              "      <td>0.018730</td>\n",
              "      <td>0.003187</td>\n",
              "      <td>14.970000</td>\n",
              "      <td>25.410000</td>\n",
              "      <td>97.660000</td>\n",
              "      <td>686.500000</td>\n",
              "      <td>0.131300</td>\n",
              "      <td>0.211900</td>\n",
              "      <td>0.226700</td>\n",
              "      <td>0.099930</td>\n",
              "      <td>0.282200</td>\n",
              "      <td>0.080040</td>\n",
              "    </tr>\n",
              "    <tr>\n",
              "      <th>75%</th>\n",
              "      <td>8.813129e+06</td>\n",
              "      <td>15.780000</td>\n",
              "      <td>21.800000</td>\n",
              "      <td>104.100000</td>\n",
              "      <td>782.700000</td>\n",
              "      <td>0.105300</td>\n",
              "      <td>0.130400</td>\n",
              "      <td>0.130700</td>\n",
              "      <td>0.074000</td>\n",
              "      <td>0.195700</td>\n",
              "      <td>0.066120</td>\n",
              "      <td>0.478900</td>\n",
              "      <td>1.474000</td>\n",
              "      <td>3.357000</td>\n",
              "      <td>45.190000</td>\n",
              "      <td>0.008146</td>\n",
              "      <td>0.032450</td>\n",
              "      <td>0.042050</td>\n",
              "      <td>0.014710</td>\n",
              "      <td>0.023480</td>\n",
              "      <td>0.004558</td>\n",
              "      <td>18.790000</td>\n",
              "      <td>29.720000</td>\n",
              "      <td>125.400000</td>\n",
              "      <td>1084.000000</td>\n",
              "      <td>0.146000</td>\n",
              "      <td>0.339100</td>\n",
              "      <td>0.382900</td>\n",
              "      <td>0.161400</td>\n",
              "      <td>0.317900</td>\n",
              "      <td>0.092080</td>\n",
              "    </tr>\n",
              "    <tr>\n",
              "      <th>max</th>\n",
              "      <td>9.113205e+08</td>\n",
              "      <td>28.110000</td>\n",
              "      <td>39.280000</td>\n",
              "      <td>188.500000</td>\n",
              "      <td>2501.000000</td>\n",
              "      <td>0.163400</td>\n",
              "      <td>0.345400</td>\n",
              "      <td>0.426800</td>\n",
              "      <td>0.201200</td>\n",
              "      <td>0.304000</td>\n",
              "      <td>0.097440</td>\n",
              "      <td>2.873000</td>\n",
              "      <td>4.885000</td>\n",
              "      <td>21.980000</td>\n",
              "      <td>542.200000</td>\n",
              "      <td>0.031130</td>\n",
              "      <td>0.135400</td>\n",
              "      <td>0.396000</td>\n",
              "      <td>0.052790</td>\n",
              "      <td>0.078950</td>\n",
              "      <td>0.029840</td>\n",
              "      <td>36.040000</td>\n",
              "      <td>49.540000</td>\n",
              "      <td>251.200000</td>\n",
              "      <td>4254.000000</td>\n",
              "      <td>0.222600</td>\n",
              "      <td>1.058000</td>\n",
              "      <td>1.252000</td>\n",
              "      <td>0.291000</td>\n",
              "      <td>0.663800</td>\n",
              "      <td>0.207500</td>\n",
              "    </tr>\n",
              "  </tbody>\n",
              "</table>\n",
              "</div>\n",
              "      <button class=\"colab-df-convert\" onclick=\"convertToInteractive('df-f1c3df78-bcc4-47ed-8163-458e98281c22')\"\n",
              "              title=\"Convert this dataframe to an interactive table.\"\n",
              "              style=\"display:none;\">\n",
              "        \n",
              "  <svg xmlns=\"http://www.w3.org/2000/svg\" height=\"24px\"viewBox=\"0 0 24 24\"\n",
              "       width=\"24px\">\n",
              "    <path d=\"M0 0h24v24H0V0z\" fill=\"none\"/>\n",
              "    <path d=\"M18.56 5.44l.94 2.06.94-2.06 2.06-.94-2.06-.94-.94-2.06-.94 2.06-2.06.94zm-11 1L8.5 8.5l.94-2.06 2.06-.94-2.06-.94L8.5 2.5l-.94 2.06-2.06.94zm10 10l.94 2.06.94-2.06 2.06-.94-2.06-.94-.94-2.06-.94 2.06-2.06.94z\"/><path d=\"M17.41 7.96l-1.37-1.37c-.4-.4-.92-.59-1.43-.59-.52 0-1.04.2-1.43.59L10.3 9.45l-7.72 7.72c-.78.78-.78 2.05 0 2.83L4 21.41c.39.39.9.59 1.41.59.51 0 1.02-.2 1.41-.59l7.78-7.78 2.81-2.81c.8-.78.8-2.07 0-2.86zM5.41 20L4 18.59l7.72-7.72 1.47 1.35L5.41 20z\"/>\n",
              "  </svg>\n",
              "      </button>\n",
              "      \n",
              "  <style>\n",
              "    .colab-df-container {\n",
              "      display:flex;\n",
              "      flex-wrap:wrap;\n",
              "      gap: 12px;\n",
              "    }\n",
              "\n",
              "    .colab-df-convert {\n",
              "      background-color: #E8F0FE;\n",
              "      border: none;\n",
              "      border-radius: 50%;\n",
              "      cursor: pointer;\n",
              "      display: none;\n",
              "      fill: #1967D2;\n",
              "      height: 32px;\n",
              "      padding: 0 0 0 0;\n",
              "      width: 32px;\n",
              "    }\n",
              "\n",
              "    .colab-df-convert:hover {\n",
              "      background-color: #E2EBFA;\n",
              "      box-shadow: 0px 1px 2px rgba(60, 64, 67, 0.3), 0px 1px 3px 1px rgba(60, 64, 67, 0.15);\n",
              "      fill: #174EA6;\n",
              "    }\n",
              "\n",
              "    [theme=dark] .colab-df-convert {\n",
              "      background-color: #3B4455;\n",
              "      fill: #D2E3FC;\n",
              "    }\n",
              "\n",
              "    [theme=dark] .colab-df-convert:hover {\n",
              "      background-color: #434B5C;\n",
              "      box-shadow: 0px 1px 3px 1px rgba(0, 0, 0, 0.15);\n",
              "      filter: drop-shadow(0px 1px 2px rgba(0, 0, 0, 0.3));\n",
              "      fill: #FFFFFF;\n",
              "    }\n",
              "  </style>\n",
              "\n",
              "      <script>\n",
              "        const buttonEl =\n",
              "          document.querySelector('#df-f1c3df78-bcc4-47ed-8163-458e98281c22 button.colab-df-convert');\n",
              "        buttonEl.style.display =\n",
              "          google.colab.kernel.accessAllowed ? 'block' : 'none';\n",
              "\n",
              "        async function convertToInteractive(key) {\n",
              "          const element = document.querySelector('#df-f1c3df78-bcc4-47ed-8163-458e98281c22');\n",
              "          const dataTable =\n",
              "            await google.colab.kernel.invokeFunction('convertToInteractive',\n",
              "                                                     [key], {});\n",
              "          if (!dataTable) return;\n",
              "\n",
              "          const docLinkHtml = 'Like what you see? Visit the ' +\n",
              "            '<a target=\"_blank\" href=https://colab.research.google.com/notebooks/data_table.ipynb>data table notebook</a>'\n",
              "            + ' to learn more about interactive tables.';\n",
              "          element.innerHTML = '';\n",
              "          dataTable['output_type'] = 'display_data';\n",
              "          await google.colab.output.renderOutput(dataTable, element);\n",
              "          const docLink = document.createElement('div');\n",
              "          docLink.innerHTML = docLinkHtml;\n",
              "          element.appendChild(docLink);\n",
              "        }\n",
              "      </script>\n",
              "    </div>\n",
              "  </div>\n",
              "  "
            ],
            "text/plain": [
              "                 id  radius_mean  ...  symmetry_worst  fractal_dimension_worst\n",
              "count  5.690000e+02   569.000000  ...      569.000000               569.000000\n",
              "mean   3.037183e+07    14.127292  ...        0.290076                 0.083946\n",
              "std    1.250206e+08     3.524049  ...        0.061867                 0.018061\n",
              "min    8.670000e+03     6.981000  ...        0.156500                 0.055040\n",
              "25%    8.692180e+05    11.700000  ...        0.250400                 0.071460\n",
              "50%    9.060240e+05    13.370000  ...        0.282200                 0.080040\n",
              "75%    8.813129e+06    15.780000  ...        0.317900                 0.092080\n",
              "max    9.113205e+08    28.110000  ...        0.663800                 0.207500\n",
              "\n",
              "[8 rows x 31 columns]"
            ]
          },
          "metadata": {},
          "execution_count": 193
        }
      ]
    },
    {
      "cell_type": "code",
      "source": [
        "data.dtypes"
      ],
      "metadata": {
        "colab": {
          "base_uri": "https://localhost:8080/"
        },
        "id": "pikJDuP99QVH",
        "outputId": "e1528359-babc-4dd5-b2ab-6c4c8c1f5c0f"
      },
      "execution_count": 194,
      "outputs": [
        {
          "output_type": "execute_result",
          "data": {
            "text/plain": [
              "id                           int64\n",
              "diagnosis                   object\n",
              "radius_mean                float64\n",
              "texture_mean               float64\n",
              "perimeter_mean             float64\n",
              "area_mean                  float64\n",
              "smoothness_mean            float64\n",
              "compactness_mean           float64\n",
              "concavity_mean             float64\n",
              "concave points_mean        float64\n",
              "symmetry_mean              float64\n",
              "fractal_dimension_mean     float64\n",
              "radius_se                  float64\n",
              "texture_se                 float64\n",
              "perimeter_se               float64\n",
              "area_se                    float64\n",
              "smoothness_se              float64\n",
              "compactness_se             float64\n",
              "concavity_se               float64\n",
              "concave points_se          float64\n",
              "symmetry_se                float64\n",
              "fractal_dimension_se       float64\n",
              "radius_worst               float64\n",
              "texture_worst              float64\n",
              "perimeter_worst            float64\n",
              "area_worst                 float64\n",
              "smoothness_worst           float64\n",
              "compactness_worst          float64\n",
              "concavity_worst            float64\n",
              "concave points_worst       float64\n",
              "symmetry_worst             float64\n",
              "fractal_dimension_worst    float64\n",
              "dtype: object"
            ]
          },
          "metadata": {},
          "execution_count": 194
        }
      ]
    },
    {
      "cell_type": "code",
      "source": [
        "data.info()"
      ],
      "metadata": {
        "colab": {
          "base_uri": "https://localhost:8080/"
        },
        "id": "nqQbkJ6H9RkW",
        "outputId": "08541e0d-f9fa-47c7-f342-6cab90e2f73c"
      },
      "execution_count": 195,
      "outputs": [
        {
          "output_type": "stream",
          "name": "stdout",
          "text": [
            "<class 'pandas.core.frame.DataFrame'>\n",
            "RangeIndex: 569 entries, 0 to 568\n",
            "Data columns (total 32 columns):\n",
            " #   Column                   Non-Null Count  Dtype  \n",
            "---  ------                   --------------  -----  \n",
            " 0   id                       569 non-null    int64  \n",
            " 1   diagnosis                569 non-null    object \n",
            " 2   radius_mean              569 non-null    float64\n",
            " 3   texture_mean             569 non-null    float64\n",
            " 4   perimeter_mean           569 non-null    float64\n",
            " 5   area_mean                569 non-null    float64\n",
            " 6   smoothness_mean          569 non-null    float64\n",
            " 7   compactness_mean         569 non-null    float64\n",
            " 8   concavity_mean           569 non-null    float64\n",
            " 9   concave points_mean      569 non-null    float64\n",
            " 10  symmetry_mean            569 non-null    float64\n",
            " 11  fractal_dimension_mean   569 non-null    float64\n",
            " 12  radius_se                569 non-null    float64\n",
            " 13  texture_se               569 non-null    float64\n",
            " 14  perimeter_se             569 non-null    float64\n",
            " 15  area_se                  569 non-null    float64\n",
            " 16  smoothness_se            569 non-null    float64\n",
            " 17  compactness_se           569 non-null    float64\n",
            " 18  concavity_se             569 non-null    float64\n",
            " 19  concave points_se        569 non-null    float64\n",
            " 20  symmetry_se              569 non-null    float64\n",
            " 21  fractal_dimension_se     569 non-null    float64\n",
            " 22  radius_worst             569 non-null    float64\n",
            " 23  texture_worst            569 non-null    float64\n",
            " 24  perimeter_worst          569 non-null    float64\n",
            " 25  area_worst               569 non-null    float64\n",
            " 26  smoothness_worst         569 non-null    float64\n",
            " 27  compactness_worst        569 non-null    float64\n",
            " 28  concavity_worst          569 non-null    float64\n",
            " 29  concave points_worst     569 non-null    float64\n",
            " 30  symmetry_worst           569 non-null    float64\n",
            " 31  fractal_dimension_worst  569 non-null    float64\n",
            "dtypes: float64(30), int64(1), object(1)\n",
            "memory usage: 142.4+ KB\n"
          ]
        }
      ]
    },
    {
      "cell_type": "code",
      "source": [
        "data.isnull().sum()"
      ],
      "metadata": {
        "colab": {
          "base_uri": "https://localhost:8080/"
        },
        "id": "b1JMOLGs9DeO",
        "outputId": "bb25bffa-b330-4fb4-ae62-c808eae2d5a2"
      },
      "execution_count": 196,
      "outputs": [
        {
          "output_type": "execute_result",
          "data": {
            "text/plain": [
              "id                         0\n",
              "diagnosis                  0\n",
              "radius_mean                0\n",
              "texture_mean               0\n",
              "perimeter_mean             0\n",
              "area_mean                  0\n",
              "smoothness_mean            0\n",
              "compactness_mean           0\n",
              "concavity_mean             0\n",
              "concave points_mean        0\n",
              "symmetry_mean              0\n",
              "fractal_dimension_mean     0\n",
              "radius_se                  0\n",
              "texture_se                 0\n",
              "perimeter_se               0\n",
              "area_se                    0\n",
              "smoothness_se              0\n",
              "compactness_se             0\n",
              "concavity_se               0\n",
              "concave points_se          0\n",
              "symmetry_se                0\n",
              "fractal_dimension_se       0\n",
              "radius_worst               0\n",
              "texture_worst              0\n",
              "perimeter_worst            0\n",
              "area_worst                 0\n",
              "smoothness_worst           0\n",
              "compactness_worst          0\n",
              "concavity_worst            0\n",
              "concave points_worst       0\n",
              "symmetry_worst             0\n",
              "fractal_dimension_worst    0\n",
              "dtype: int64"
            ]
          },
          "metadata": {},
          "execution_count": 196
        }
      ]
    },
    {
      "cell_type": "code",
      "source": [
        "#instantiate the selectors to for numeric and categorical data types\n",
        "num_selector = make_column_selector(dtype_include='number')\n",
        "cat_selector = make_column_selector(dtype_include='object')\n",
        "#select the numeric columns of each type\n",
        "numerical_features = num_selector(data)\n",
        "categorial_features = cat_selector(data)\n",
        "#check our lists\n",
        "print('numeric columns are', numerical_features)\n",
        "print('categorical columns are', categorial_features)"
      ],
      "metadata": {
        "colab": {
          "base_uri": "https://localhost:8080/"
        },
        "id": "YatHNKJB9Vt_",
        "outputId": "6d74029d-773c-4cd7-88e7-0b99e39fe97f"
      },
      "execution_count": 197,
      "outputs": [
        {
          "output_type": "stream",
          "name": "stdout",
          "text": [
            "numeric columns are ['id', 'radius_mean', 'texture_mean', 'perimeter_mean', 'area_mean', 'smoothness_mean', 'compactness_mean', 'concavity_mean', 'concave points_mean', 'symmetry_mean', 'fractal_dimension_mean', 'radius_se', 'texture_se', 'perimeter_se', 'area_se', 'smoothness_se', 'compactness_se', 'concavity_se', 'concave points_se', 'symmetry_se', 'fractal_dimension_se', 'radius_worst', 'texture_worst', 'perimeter_worst', 'area_worst', 'smoothness_worst', 'compactness_worst', 'concavity_worst', 'concave points_worst', 'symmetry_worst', 'fractal_dimension_worst']\n",
            "categorical columns are ['diagnosis']\n"
          ]
        }
      ]
    },
    {
      "cell_type": "code",
      "source": [
        "X = data[['radius_mean', 'concave points_mean']]\n",
        "y = data['diagnosis']\n",
        "y = y.map({'M':1, 'B':0})"
      ],
      "metadata": {
        "id": "swdbhzLT-0Pn"
      },
      "execution_count": 198,
      "outputs": []
    },
    {
      "cell_type": "code",
      "source": [
        "#instantiate the selectors to for numeric and categorical data types\n",
        "num_selector = make_column_selector(dtype_include='number')\n",
        "cat_selector = make_column_selector(dtype_include='object')\n",
        "#select the numeric columns of each type\n",
        "numerical_features = num_selector(data)\n",
        "categorial_features = cat_selector(data)\n",
        "#check our lists\n",
        "print('numeric columns are', numerical_features)\n",
        "print('categorical columns are', categorial_features)"
      ],
      "metadata": {
        "colab": {
          "base_uri": "https://localhost:8080/"
        },
        "id": "Mlw73gg6Flth",
        "outputId": "65018e28-9147-42de-9914-423df0ad1806"
      },
      "execution_count": 199,
      "outputs": [
        {
          "output_type": "stream",
          "name": "stdout",
          "text": [
            "numeric columns are ['id', 'radius_mean', 'texture_mean', 'perimeter_mean', 'area_mean', 'smoothness_mean', 'compactness_mean', 'concavity_mean', 'concave points_mean', 'symmetry_mean', 'fractal_dimension_mean', 'radius_se', 'texture_se', 'perimeter_se', 'area_se', 'smoothness_se', 'compactness_se', 'concavity_se', 'concave points_se', 'symmetry_se', 'fractal_dimension_se', 'radius_worst', 'texture_worst', 'perimeter_worst', 'area_worst', 'smoothness_worst', 'compactness_worst', 'concavity_worst', 'concave points_worst', 'symmetry_worst', 'fractal_dimension_worst']\n",
            "categorical columns are ['diagnosis']\n"
          ]
        }
      ]
    },
    {
      "cell_type": "code",
      "source": [
        "from sklearn.model_selection import train_test_split\n",
        "\n",
        "X_train, X_test, y_train, y_test = train_test_split(X, y, test_size=0.2, random_state=1)"
      ],
      "metadata": {
        "id": "NoJdXX8B_8IP"
      },
      "execution_count": 200,
      "outputs": []
    },
    {
      "cell_type": "code",
      "source": [
        "X = (X - np.min(X)) / (np.max(X) - np.min(X))"
      ],
      "metadata": {
        "id": "Pe16LVvCGvM5"
      },
      "execution_count": 201,
      "outputs": []
    },
    {
      "cell_type": "code",
      "source": [
        "print(X_train)"
      ],
      "metadata": {
        "colab": {
          "base_uri": "https://localhost:8080/"
        },
        "id": "V5WNDWoECj2f",
        "outputId": "b367ceee-3e65-4ba5-eba6-206de11b50c5"
      },
      "execution_count": 219,
      "outputs": [
        {
          "output_type": "stream",
          "name": "stdout",
          "text": [
            "[[ 1.04498520e+00  9.81746826e-01]\n",
            " [ 1.68141074e+00  1.38968590e+00]\n",
            " [-1.44260855e+00 -1.17143992e+00]\n",
            " [-5.54379860e-01 -6.15972197e-01]\n",
            " [-5.18407982e-01 -7.37896701e-01]\n",
            " [ 1.78893047e-01 -5.28846978e-01]\n",
            " [-1.86359873e-01 -4.52131120e-02]\n",
            " [ 1.57072804e+00  1.13593052e+00]\n",
            " [ 1.75335450e+00  2.09837208e+00]\n",
            " [-6.15255347e-01 -1.73995869e-01]\n",
            " [-3.68986333e-01 -6.64487989e-01]\n",
            " [ 2.48939447e+00  1.88246410e+00]\n",
            " [ 1.81660115e-01  1.00689375e+00]\n",
            " [ 7.26772427e-01 -5.55771973e-01]\n",
            " [ 1.48771601e+00  2.00692870e+00]\n",
            " [ 1.65097300e+00  2.81467854e+00]\n",
            " [-5.37777455e-01 -5.85745080e-01]\n",
            " [ 4.19627926e-01  3.18020306e-01]\n",
            " [-5.29476252e-01 -1.04283497e+00]\n",
            " [ 1.34382850e+00  1.27055549e+00]\n",
            " [-8.67058496e-01 -6.03525737e-01]\n",
            " [ 4.25162062e-01  3.81776662e-01]\n",
            " [ 9.20467158e-01  6.42390289e-01]\n",
            " [ 4.14093791e-01  2.47405698e-01]\n",
            " [-8.28319550e-01 -1.09620234e+00]\n",
            " [ 2.14864926e-01 -2.75091604e-01]\n",
            " [ 2.31467331e-01 -1.58501297e-01]\n",
            " [ 1.43514173e+00  9.97495408e-01]\n",
            " [-6.42926023e-01 -7.06145528e-01]\n",
            " [ 2.78507480e-01  1.13542250e+00]\n",
            " [ 2.06563723e-01 -3.55607554e-02]\n",
            " [ 1.29085831e-01  7.62033733e-02]\n",
            " [-1.07735563e+00 -1.12005382e+00]\n",
            " [-6.53994293e-01 -6.80490580e-01]\n",
            " [-7.06568577e-01 -9.64473071e-01]\n",
            " [ 3.53218305e-01  1.05515554e+00]\n",
            " [-5.62681063e-01 -8.10035366e-01]\n",
            " [-8.53223158e-01 -6.86332796e-01]\n",
            " [ 3.50055333e-02 -9.04267823e-02]\n",
            " [-6.67829631e-01  6.23847604e-01]\n",
            " [ 1.62290642e-01 -6.85570768e-01]\n",
            " [-2.80440170e-01 -1.17679951e+00]\n",
            " [ 2.45302669e-01  9.08084105e-01]\n",
            " [-3.66219265e-01 -2.48674628e-01]\n",
            " [-1.42086792e-01 -4.56962323e-01]\n",
            " [-1.22760740e+00 -8.08003291e-01]\n",
            " [-5.35406291e-02 -5.85999090e-01]\n",
            " [-3.66219265e-01 -3.98540165e-01]\n",
            " [-7.89580604e-01 -7.26212269e-01]\n",
            " [ 5.66282508e-01  7.67616915e-01]\n",
            " [-7.70211131e-01 -7.86920512e-01]\n",
            " [-3.77287535e-01 -7.85396456e-01]\n",
            " [ 1.11692896e+00  6.20037464e-01]\n",
            " [ 1.44621000e+00  1.77324007e+00]\n",
            " [ 4.33463264e-01  4.18354013e-01]\n",
            " [-3.71753400e-01 -8.49406820e-01]\n",
            " [-8.44921956e-01 -9.86317878e-01]\n",
            " [-7.45307523e-01 -5.15638490e-01]\n",
            " [-3.21946184e-01 -1.15378626e+00]\n",
            " [-3.73341271e-03 -4.82871280e-01]\n",
            " [-5.93118806e-01 -5.48913720e-01]\n",
            " [-7.20403915e-01 -1.17351777e-01]\n",
            " [-1.24337969e+00 -1.25963197e+00]\n",
            " [-5.18407982e-01 -5.87269137e-01]\n",
            " [ 1.95495453e-01 -4.41467750e-01]\n",
            " [-2.00127950e+00 -1.25963197e+00]\n",
            " [-7.39773388e-01 -6.00731634e-01]\n",
            " [-1.03031548e+00 -9.54566705e-01]\n",
            " [-1.39319724e-01 -2.98714477e-01]\n",
            " [-1.43098687e+00 -1.29539203e-02]\n",
            " [ 5.41378900e-01  1.11256668e-01]\n",
            " [ 1.54859150e+00  1.15294915e+00]\n",
            " [ 9.01097685e-01  1.38968590e+00]\n",
            " [-2.52769495e-01 -6.43913229e-01]\n",
            " [ 1.23037873e+00  9.41359334e-01]\n",
            " [-4.76901968e-01 -1.09648175e+00]\n",
            " [-3.46849792e-01 -7.81332306e-01]\n",
            " [-5.04572644e-01 -5.28084950e-01]\n",
            " [-2.69371900e-01 -5.40023391e-01]\n",
            " [ 6.60362805e-01  8.71257768e-02]\n",
            " [ 1.68694488e+00  1.11103760e+00]\n",
            " [-7.64676996e-01 -6.92429021e-01]\n",
            " [-1.66508079e+00 -1.10933462e+00]\n",
            " [-2.25098819e-01  8.16132708e-01]\n",
            " [ 5.69049575e-01  8.96399673e-01]\n",
            " [-2.11263481e-01 -5.53485889e-01]\n",
            " [ 5.63515440e-01  1.07573030e+00]\n",
            " [-2.41701224e-01  5.15131588e-01]\n",
            " [ 1.06949290e-01  7.92514859e-02]\n",
            " [-8.97496240e-01 -3.41896072e-01]\n",
            " [ 1.54582443e+00  9.47963578e-01]\n",
            " [ 8.87262347e-01  4.16067929e-01]\n",
            " [-6.31857752e-01 -7.49581133e-01]\n",
            " [ 1.09716358e-01 -7.82856362e-01]\n",
            " [-8.67058496e-01  3.57645770e-01]\n",
            " [ 8.67892874e-01 -5.39007354e-01]\n",
            " [-2.08496413e-01 -4.58994398e-01]\n",
            " [-1.44853859e-01 -7.43738917e-01]\n",
            " [-8.11717145e-01 -4.14029713e-02]\n",
            " [-7.12102712e-01 -3.74409273e-01]\n",
            " [ 1.86127013e+00  2.06789095e+00]\n",
            " [-4.82436103e-01 -2.89062120e-01]\n",
            " [-4.57532495e-01 -1.44276772e-01]\n",
            " [-5.12873847e-01 -3.08366833e-01]\n",
            " [-1.14376525e+00 -1.19856812e+00]\n",
            " [-7.23170982e-01 -8.08257300e-01]\n",
            " [-5.84817604e-01 -4.14796765e-01]\n",
            " [-1.25804514e+00 -8.75061768e-01]\n",
            " [ 1.67310954e+00  9.45931503e-01]\n",
            " [-4.63066630e-01 -1.12122226e+00]\n",
            " [ 2.77716950e+00  3.85103682e+00]\n",
            " [-1.55412138e+00 -1.25963197e+00]\n",
            " [-4.96271441e-01 -9.78189578e-01]\n",
            " [ 1.92214562e+00  9.32977024e-01]\n",
            " [ 2.50599688e+00  1.20476706e+00]\n",
            " [ 4.52832737e-01  1.02874359e-01]\n",
            " [ 1.89961318e-01  1.20705315e+00]\n",
            " [-1.55384467e+00 -1.02444469e+00]\n",
            " [-9.44536388e-01 -9.03002800e-01]\n",
            " [ 2.07433434e+00  8.90557457e-01]\n",
            " [ 7.09774118e-02 -2.71535473e-01]\n",
            " [-2.02962278e-01  1.21925062e-01]\n",
            " [ 9.78575577e-01  8.46867843e-01]\n",
            " [ 1.30785662e+00  7.59996634e-01]\n",
            " [ 2.28700264e-01  3.00493659e-01]\n",
            " [-7.01430345e-02  7.29012513e-02]\n",
            " [-7.23170982e-01 -4.08700540e-01]\n",
            " [-1.72524535e-01 -7.15543875e-01]\n",
            " [-1.20823793e+00 -6.45945304e-01]\n",
            " [-3.71753400e-01 -7.28752363e-01]\n",
            " [-1.25776844e+00 -1.11309396e+00]\n",
            " [ 4.25162062e-01  1.89516457e+00]\n",
            " [-7.56771697e-02  4.20640097e-01]\n",
            " [-2.61070697e-01 -6.35784929e-01]\n",
            " [ 1.69524608e+00  2.56066915e+00]\n",
            " [ 1.32445902e+00  1.69678826e-01]\n",
            " [ 3.04557506e+00  3.42684115e+00]\n",
            " [ 1.75888863e+00  5.22751870e-01]\n",
            " [-2.88741373e-01 -5.30625044e-01]\n",
            " [ 1.21654339e+00  7.04114570e-01]\n",
            " [ 1.18017561e-01  5.34690311e-01]\n",
            " [-2.05729346e-01  7.79814390e-02]\n",
            " [-1.14416116e-01  2.79415905e-02]\n",
            " [-1.94661075e-01  1.07192518e-01]\n",
            " [-2.16797616e-01 -3.86347714e-01]\n",
            " [-4.02191144e-01 -6.12416066e-01]\n",
            " [-2.25098819e-01 -8.85476153e-01]\n",
            " [-8.53223158e-01 -9.11639119e-01]\n",
            " [ 3.20013494e-01  6.41120242e-01]\n",
            " [-8.67454400e-02 -7.33832551e-01]\n",
            " [-1.00580778e-01 -9.69807268e-01]\n",
            " [-3.99424076e-01 -8.78871909e-01]\n",
            " [ 1.37149917e+00  1.58019293e+00]\n",
            " [-5.98652941e-01 -5.03192031e-01]\n",
            " [-1.78572493e+00 -1.25963197e+00]\n",
            " [-1.27492426e+00 -6.77442468e-01]\n",
            " [ 1.80072244e-03 -1.39958612e-01]\n",
            " [ 3.55985372e-01  8.94621607e-01]\n",
            " [-1.53155062e-01 -3.73388211e-02]\n",
            " [-1.36845114e+00  7.44253077e-02]\n",
            " [ 1.47111361e+00  1.43794768e+00]\n",
            " [-1.33785589e-01  7.78793328e-01]\n",
            " [ 1.56360603e-02  2.99731631e-01]\n",
            " [-1.03308255e+00 -6.96239162e-01]\n",
            " [-3.05343778e-01  3.63239001e-02]\n",
            " [ 3.44917102e-01  7.94541910e-01]\n",
            " [-9.83275335e-01 -1.25963197e+00]\n",
            " [-8.14484212e-01 -5.59328104e-01]\n",
            " [-3.99424076e-01 -5.32149100e-01]\n",
            " [ 2.11701955e-02 -1.10087611e+00]\n",
            " [ 7.92786146e-02  2.08034243e-01]\n",
            " [ 2.03796655e-01  9.30944949e-01]\n",
            " [-1.58689197e-01 -8.21973807e-01]\n",
            " [-4.80064939e-02 -5.11828350e-01]\n",
            " [ 1.28689927e-02  7.21133198e-01]\n",
            " [ 1.80316171e+00  9.36533156e-01]\n",
            " [-1.79430284e+00 -1.25963197e+00]\n",
            " [ 2.08540261e+00  1.50399012e+00]\n",
            " [ 1.47664774e+00  1.64623537e+00]\n",
            " [ 1.27465181e+00  9.61426075e-01]\n",
            " [-3.05343778e-01  1.17911212e+00]\n",
            " [-4.52394263e-02 -1.66375588e-01]\n",
            " [ 2.88231807e+00  2.47684606e+00]\n",
            " [ 7.93182049e-01  3.73902371e-01]\n",
            " [ 7.84880846e-01  1.50907031e+00]\n",
            " [-8.47689023e-01 -8.05971216e-01]\n",
            " [-8.72592631e-01 -1.75519926e-01]\n",
            " [ 1.18333858e+00  1.07293619e+00]\n",
            " [-4.13259414e-01 -7.70917921e-01]\n",
            " [-3.35781522e-01 -5.87777155e-01]\n",
            " [ 6.32692130e-01 -3.14966053e-02]\n",
            " [-5.18407982e-01 -5.42817494e-01]\n",
            " [ 7.10170022e-01  4.10733732e-01]\n",
            " [ 1.65650713e+00  1.95358673e+00]\n",
            " [-1.20021343e+00 -7.63805658e-01]\n",
            " [-6.65062563e-01 -8.65155402e-01]\n",
            " [-6.40158955e-01 -4.96841796e-01]\n",
            " [ 2.57240650e+00  2.32190033e+00]\n",
            " [-1.04415082e+00 -9.50756564e-01]\n",
            " [-4.85203171e-01 -9.67775193e-01]\n",
            " [-4.13259414e-01 -7.93524756e-01]\n",
            " [ 1.90554321e+00  1.67417641e+00]\n",
            " [ 1.28689927e-02 -9.10623082e-01]\n",
            " [-4.63066630e-01 -4.26735206e-01]\n",
            " [ 1.77825811e+00  1.01146592e+00]\n",
            " [-6.26323617e-01 -8.05717206e-01]\n",
            " [ 5.33077697e-01 -1.09477486e-01]\n",
            " [-1.53364508e+00 -1.25963197e+00]\n",
            " [-6.84432036e-01 -5.89301212e-01]\n",
            " [ 1.05605347e+00  3.28942710e-01]\n",
            " [-3.82821671e-01  4.83126406e-01]\n",
            " [-1.09395804e+00 -7.42214861e-01]\n",
            " [ 1.36873210e+00  1.19511471e+00]\n",
            " [ 1.72291675e+00  7.17831076e-01]\n",
            " [-4.40930090e-01 -7.42468870e-01]\n",
            " [-1.66990400e-01 -1.19383852e-01]\n",
            " [ 5.43750064e-02  4.17337975e-01]\n",
            " [ 1.76442277e+00  1.58781321e+00]\n",
            " [ 1.10862775e+00  1.43286749e+00]\n",
            " [ 2.17631993e-01 -2.99476505e-01]\n",
            " [-9.39002253e-01 -1.05236032e+00]\n",
            " [ 1.76718984e+00  2.60131066e+00]\n",
            " [-2.94275508e-01 -3.74917292e-01]\n",
            " [-7.50841658e-01 -7.34086560e-01]\n",
            " [-6.42926023e-01  6.21053501e-01]\n",
            " [-5.95885874e-01 -7.61011555e-01]\n",
            " [-8.08950077e-01 -5.59836123e-01]\n",
            " [-2.88741373e-01  7.44253077e-02]\n",
            " [-7.48074591e-01 -2.16923455e-01]\n",
            " [-1.02478135e+00 -4.80331186e-01]\n",
            " [-4.24723588e-02 -4.33847469e-01]\n",
            " [-6.56761361e-01 -9.05796904e-01]\n",
            " [ 2.22929012e+00  3.37095909e+00]\n",
            " [-1.09672511e+00 -2.52484769e-01]\n",
            " [ 2.09330791e-01 -2.99222496e-01]\n",
            " [-3.74520468e-01 -6.71600252e-01]\n",
            " [-6.78897901e-01 -9.76411512e-01]\n",
            " [-6.12488279e-01 -7.86412493e-01]\n",
            " [-3.35781522e-01  1.11611779e+00]\n",
            " [ 7.76579644e-01  1.79610091e+00]\n",
            " [ 5.71420740e-02  2.23528816e-01]\n",
            " [-7.95114739e-01 -7.77268155e-01]\n",
            " [ 3.44917102e-01  9.04527973e-01]\n",
            " [ 5.02639954e-01  5.28848095e-01]\n",
            " [-1.11609458e+00 -7.73204005e-01]\n",
            " [ 3.00644021e-01  9.63204141e-01]\n",
            " [-3.66219265e-01 -9.62186987e-01]\n",
            " [-1.23369495e+00 -9.94700188e-01]\n",
            " [-7.45307523e-01 -6.80998599e-01]\n",
            " [ 9.59206104e-01  1.41762693e+00]\n",
            " [-4.87970238e-01 -2.87025021e-02]\n",
            " [ 1.85573600e+00  2.48446634e+00]\n",
            " [-6.95500307e-01 -9.68029203e-01]\n",
            " [-5.98652941e-01 -5.61360179e-01]\n",
            " [ 1.65057709e-01 -6.14194131e-01]\n",
            " [-1.00580778e-01 -6.77188458e-01]\n",
            " [ 1.39916985e+00  6.69061275e-01]\n",
            " [ 6.99101752e-01  2.68996495e-01]\n",
            " [-3.41315657e-01 -5.10304293e-01]\n",
            " [-1.39473828e+00 -7.05891519e-01]\n",
            " [ 1.81660115e-01 -2.03151681e-03]\n",
            " [-3.74520468e-01 -3.96000071e-01]\n",
            " [ 1.98025404e+00  1.92818579e+00]\n",
            " [-1.47620927e-01 -7.82094334e-01]\n",
            " [-1.28571582e+00 -8.36198332e-01]\n",
            " [ 1.63713766e+00  1.22737390e+00]\n",
            " [ 1.51261962e+00  1.54209153e+00]\n",
            " [ 1.22761166e+00  1.30332271e+00]\n",
            " [-1.03031548e+00 -8.07495272e-01]\n",
            " [ 6.85266414e-01 -6.73632327e-01]\n",
            " [ 6.21623859e-01  9.92415220e-01]\n",
            " [ 1.47111361e+00  4.26228304e-01]\n",
            " [-5.37777455e-01 -1.25963197e+00]\n",
            " [-9.14098645e-01 -9.11893129e-01]\n",
            " [-1.30314835e+00 -7.32308495e-01]\n",
            " [-9.86042402e-01 -8.49406820e-01]\n",
            " [-1.32556159e+00 -1.25963197e+00]\n",
            " [-4.27094752e-01 -7.24434204e-01]\n",
            " [-3.21946184e-01 -1.03536709e+00]\n",
            " [ 6.54432767e-02  2.59344139e-01]\n",
            " [-7.70211131e-01 -5.29354997e-01]\n",
            " [ 6.74198143e-01  1.06963407e+00]\n",
            " [ 2.95109885e-01 -4.30799356e-01]\n",
            " [ 2.50836804e-01 -2.23527699e-01]\n",
            " [ 1.17227031e+00  4.79570274e-01]\n",
            " [-1.02478135e+00 -7.83364381e-01]\n",
            " [-1.45644389e+00 -6.73378318e-01]\n",
            " [ 3.84525759e+00  2.79181769e+00]\n",
            " [-1.25361784e+00 -1.01540195e+00]\n",
            " [-1.35046520e+00 -9.33991945e-01]\n",
            " [-8.17251280e-01 -1.11576106e+00]\n",
            " [-1.33275597e+00 -1.12937596e+00]\n",
            " [-8.00648875e-01 -1.18025404e+00]\n",
            " [-9.05797442e-01 -5.14876462e-01]\n",
            " [-1.11056044e+00 -9.87587925e-01]\n",
            " [ 1.38256744e+00  1.02492842e+00]\n",
            " [ 1.10862775e+00  7.59742625e-01]\n",
            " [ 1.00624625e+00 -1.98380770e-01]\n",
            " [-3.35781522e-01 -8.12067441e-01]\n",
            " [-6.98267374e-01 -1.08715458e-01]\n",
            " [ 5.71420740e-02 -1.86950348e-01]\n",
            " [ 1.90277615e+00  2.54034840e+00]\n",
            " [-1.22484033e+00 -1.05802473e+00]\n",
            " [-1.51842620e+00 -7.70917921e-01]\n",
            " [-3.91122873e-01 -2.22511662e-01]\n",
            " [-1.72524535e-01 -9.45168358e-01]\n",
            " [ 4.33463264e-01  1.14812297e+00]\n",
            " [-1.12162871e+00 -9.76157503e-01]\n",
            " [-5.23942117e-01 -3.19797256e-01]\n",
            " [-6.31857752e-01 -8.03431122e-01]\n",
            " [ 1.47664774e+00  1.33380383e+00]\n",
            " [-1.56131575e+00 -8.76077806e-01]\n",
            " [ 2.45302669e-01 -4.12764690e-01]\n",
            " [-1.19246564e+00 -3.15733106e-01]\n",
            " [-6.04187077e-01 -1.11758993e+00]\n",
            " [ 1.78893047e-01  9.95463332e-01]\n",
            " [ 1.37426624e+00  4.60519571e-01]\n",
            " [ 8.45756333e-01  1.97365849e-01]\n",
            " [ 3.18669550e+00  3.59956753e+00]\n",
            " [ 4.11326724e-01  5.84227165e-02]\n",
            " [-5.51612793e-01 -7.09447650e-01]\n",
            " [-8.50456091e-01 -8.85984172e-01]\n",
            " [-1.20021343e+00 -4.90237552e-01]\n",
            " [-1.55922129e-01 -6.08605925e-01]\n",
            " [-5.59913995e-01 -5.27576931e-01]\n",
            " [ 2.39768534e-01  4.04891516e-01]\n",
            " [ 2.70206277e-01 -5.84729043e-01]\n",
            " [-1.15206646e+00 -8.08765319e-01]\n",
            " [-6.48460158e-01 -6.53565586e-01]\n",
            " [-1.11886165e+00 -9.31959870e-01]\n",
            " [ 2.34234399e-01  9.79460741e-01]\n",
            " [-5.18407982e-01 -1.00841167e-01]\n",
            " [-1.23839897e+00 -1.25963197e+00]\n",
            " [-2.91508441e-01 -9.40596189e-01]\n",
            " [ 6.26762091e-02  1.45547935e-01]\n",
            " [ 2.51153101e+00  2.85532004e+00]\n",
            " [-1.24033591e+00  7.36119752e-01]\n",
            " [-2.08496413e-01 -9.75903493e-01]\n",
            " [-1.51621255e+00 -1.25963197e+00]\n",
            " [ 1.26081647e+00  2.87285171e-01]\n",
            " [-8.14484212e-01  1.50120104e-01]\n",
            " [-1.25555478e+00  5.28086067e-01]\n",
            " [ 4.99872886e-01 -4.15558793e-01]\n",
            " [-9.69439997e-01 -5.31387072e-01]\n",
            " [-5.62681063e-01 -5.12590378e-01]\n",
            " [ 1.76165570e+00  1.16895174e+00]\n",
            " [-1.58689197e-01 -3.11922965e-01]\n",
            " [ 1.37387034e-01  8.03686248e-01]\n",
            " [-6.12488279e-01 -7.65583724e-01]\n",
            " [-4.85203171e-01 -4.72456895e-01]\n",
            " [-9.22399848e-01 -8.60583233e-01]\n",
            " [-1.32196441e+00 -9.02494782e-01]\n",
            " [ 1.01019252e-02  1.62312554e-01]\n",
            " [ 1.22207752e+00  1.90024476e+00]\n",
            " [-3.13644981e-01 -4.69662792e-01]\n",
            " [-6.81664969e-01 -1.31830312e-01]\n",
            " [-8.28319550e-01 -1.06701666e+00]\n",
            " [ 5.13708224e-01  4.26482313e-01]\n",
            " [-5.48845725e-01 -2.16415437e-01]\n",
            " [ 1.06158760e+00  1.48366937e+00]\n",
            " [ 3.86423115e-01 -5.36467260e-01]\n",
            " [-1.11649048e-01  1.07115813e+00]\n",
            " [-1.31018521e-01 -9.22053504e-01]\n",
            " [-3.82821671e-01 -4.77791092e-01]\n",
            " [-1.89126940e-01  4.05653544e-01]\n",
            " [ 1.51538669e+00  1.98914804e+00]\n",
            " [-9.50466427e-02 -6.57883745e-01]\n",
            " [-7.17636847e-01  1.53676235e-01]\n",
            " [-6.29090685e-01 -9.16973316e-01]\n",
            " [ 8.51290468e-01  6.47216468e-01]\n",
            " [ 3.65432992e+00  3.03058651e+00]\n",
            " [ 8.54057536e-01  8.62108406e-01]\n",
            " [-2.58303630e-01 -5.32149100e-01]\n",
            " [ 3.64286575e-01  8.73792838e-01]\n",
            " [-8.20018348e-01 -1.18492782e+00]\n",
            " [ 2.15734636e+00  2.55304887e+00]\n",
            " [ 1.64543886e+00  7.02844523e-01]\n",
            " [-7.75745266e-01 -6.59915820e-01]\n",
            " [-1.65871653e+00 -7.08939631e-01]\n",
            " [-6.42926023e-01 -4.61534492e-01]\n",
            " [-1.33054232e+00 -9.40342180e-01]\n",
            " [ 1.62606939e+00  1.99168813e+00]\n",
            " [ 1.80072244e-03  4.21402126e-01]\n",
            " [-5.26709185e-01 -6.82522655e-01]\n",
            " [-7.59142861e-01 -6.69822186e-01]\n",
            " [-1.28251454e-01 -6.64233980e-01]\n",
            " [-2.30632954e-01 -4.30545347e-01]\n",
            " [-8.33853685e-01 -1.25963197e+00]\n",
            " [ 1.32999316e+00  8.41279637e-01]\n",
            " [ 8.98330617e-01  9.78444704e-01]\n",
            " [-3.63452198e-01 -4.75250998e-01]\n",
            " [ 1.13353136e+00  1.14101071e+00]\n",
            " [-9.99877740e-01 -5.88539183e-01]\n",
            " [-4.18793549e-01 -6.49501436e-01]\n",
            " [-8.17251280e-01  1.59772461e-01]\n",
            " [-6.92733239e-01 -5.99207578e-01]\n",
            " [-9.44536388e-01 -8.28324042e-01]\n",
            " [ 1.35212970e+00  2.47176587e+00]\n",
            " [ 1.73121796e+00  1.31856327e+00]\n",
            " [-5.43311590e-01 -6.67536102e-01]\n",
            " [-3.21946184e-01  1.63582601e-01]\n",
            " [-8.78126767e-01 -7.32816513e-01]\n",
            " [-1.00580778e-01 -3.17003152e-01]\n",
            " [-1.66990400e-01 -4.76013027e-01]\n",
            " [ 3.11712291e-01  1.21848357e+00]\n",
            " [ 1.43514173e+00  1.14431283e+00]\n",
            " [-6.01420009e-01 -6.55851670e-01]\n",
            " [-5.54379860e-01 -7.44754954e-01]\n",
            " [ 8.09784455e-01  2.29903949e+00]\n",
            " [-1.22717318e-01  3.98033262e-01]\n",
            " [-4.24327684e-01  4.86174518e-01]\n",
            " [ 9.03468849e-02  6.10893126e-01]\n",
            " [-2.97042576e-01 -3.68059039e-01]\n",
            " [-6.78897901e-01 -3.66788992e-01]\n",
            " [-3.38548589e-01 -7.26720288e-01]\n",
            " [ 1.01415155e-01  9.71332441e-01]\n",
            " [-2.58303630e-01  3.04557809e-01]\n",
            " [-4.82436103e-01 -6.57883745e-01]\n",
            " [-7.95114739e-01 -6.00731634e-01]\n",
            " [-2.77673103e-01 -4.27751244e-01]\n",
            " [-4.40930090e-01 -6.82522655e-01]\n",
            " [-9.22795751e-02 -1.04354619e+00]\n",
            " [-1.47359971e+00 -5.30117025e-01]\n",
            " [-7.14869780e-01 -7.47295048e-01]\n",
            " [-5.01805576e-01 -5.48659710e-01]\n",
            " [ 8.23619792e-01  3.98287272e-01]\n",
            " [ 2.92342818e-01 -4.57724351e-01]\n",
            " [-5.62681063e-01 -1.13133184e+00]\n",
            " [ 1.01415155e-01 -1.54945166e-01]\n",
            " [-7.39773388e-01 -1.03338582e+00]\n",
            " [-9.00263307e-01 -5.51453813e-01]\n",
            " [-4.93504374e-01 -8.28070032e-01]\n",
            " [-1.39319724e-01  2.60614186e-01]\n",
            " [ 2.04666366e+00  2.70799460e+00]\n",
            " [ 5.24776494e-01  2.49945792e-01]\n",
            " [ 7.37444794e-02 -5.33363879e-03]\n",
            " [-7.53608726e-01 -7.59487499e-01]\n",
            " [ 2.45618966e+00  1.28808214e+00]\n",
            " [-9.78137103e-02  1.63328592e-01]\n",
            " [-8.72592631e-01 -1.07557678e+00]\n",
            " [-5.43311590e-01 -9.39326142e-01]\n",
            " [ 1.52645496e+00  1.21441942e+00]\n",
            " [ 9.37069563e-01  1.28554205e+00]\n",
            " [-9.50466427e-02 -7.29260382e-01]\n",
            " [ 1.44897706e+00  9.22562639e-01]\n",
            " [-7.97881807e-01 -1.17497065e+00]\n",
            " [-3.33014454e-01 -1.21258944e+00]\n",
            " [-6.84432036e-01 -5.57804048e-01]\n",
            " [-1.09395804e+00 -7.59741508e-01]\n",
            " [ 5.77350778e-01 -1.00587158e-01]\n",
            " [ 1.54305736e+00  1.65893584e+00]\n",
            " [-9.58371726e-01 -1.05959959e+00]\n",
            " [ 8.26386860e-01  7.58218568e-01]\n",
            " [-5.07735615e-02 -7.78030184e-01]\n",
            " [-3.27480319e-01 -5.17162547e-01]]\n"
          ]
        }
      ]
    },
    {
      "cell_type": "code",
      "source": [
        "print(X_test)"
      ],
      "metadata": {
        "colab": {
          "base_uri": "https://localhost:8080/"
        },
        "id": "doAWu_KH_z78",
        "outputId": "5ae7707e-f706-4a61-c886-dc08bf066ab6"
      },
      "execution_count": 229,
      "outputs": [
        {
          "output_type": "stream",
          "name": "stdout",
          "text": [
            "[[ 0.1318529   0.34062714]\n",
            " [-0.28874137  0.6047969 ]\n",
            " [-0.34961686 -0.40362035]\n",
            " [ 1.13353136  0.21717858]\n",
            " [ 0.25360387 -0.56390027]\n",
            " [ 0.53861183  0.1661227 ]\n",
            " [ 1.37703331  1.19587674]\n",
            " [ 1.06988881  0.20803424]\n",
            " [-1.03308255 -0.47982317]\n",
            " [ 0.08757982  0.39015897]\n",
            " [-0.87812677 -0.6296887 ]\n",
            " [-0.00650048  0.38177666]\n",
            " [ 0.56074837  1.03966097]\n",
            " [-0.51287385 -0.77167995]\n",
            " [ 0.14568824 -0.49074557]\n",
            " [-0.36898633  0.08737979]\n",
            " [-0.55714693 -0.8298481 ]\n",
            " [-0.70103444 -0.46407459]\n",
            " [-1.00817894  0.24943777]\n",
            " [ 1.73398502  0.27001253]\n",
            " [-0.40219114 -0.80724126]\n",
            " [-0.73147219 -0.89690658]\n",
            " [ 1.48771601  1.04245507]\n",
            " [-0.40495821 -0.49887387]\n",
            " [ 0.15675651  1.03381875]\n",
            " [-0.80618301 -0.53468919]\n",
            " [ 0.10418222 -0.31065292]\n",
            " [ 1.17503737  0.97438055]\n",
            " [ 3.59898857  3.51066425]\n",
            " [ 0.77381258  0.1094786 ]\n",
            " [ 2.03282832  2.26855836]\n",
            " [-0.87259263 -0.41098662]\n",
            " [ 0.53031063  1.35158449]\n",
            " [-0.0646089   0.38203067]\n",
            " [-1.31393991 -0.87760186]\n",
            " [-0.02863702 -0.56542433]\n",
            " [ 1.02838279 -0.05461146]\n",
            " [ 0.11248343 -0.50852623]\n",
            " [-0.90303037  0.18034722]\n",
            " [-0.69273324 -0.43689558]\n",
            " [-1.36098006 -0.64467526]\n",
            " [-0.20019521 -0.40006422]\n",
            " [-0.68166497 -0.3101449 ]\n",
            " [-0.23340002 -0.5484057 ]\n",
            " [-0.18082574 -0.12903621]\n",
            " [ 0.30617816  1.89516457]\n",
            " [-1.8048177  -0.91316318]\n",
            " [-1.23729214 -0.90224077]\n",
            " [ 0.11801756 -0.55069179]\n",
            " [ 0.92876836  0.76050465]\n",
            " [ 1.05051933  0.71198886]\n",
            " [ 1.0449852   2.47684606]\n",
            " [-0.43816302  0.26975852]\n",
            " [-0.45199836 -1.18535963]\n",
            " [-1.23729214 -0.75999552]\n",
            " [-0.08674544 -0.91951341]\n",
            " [-0.36068513 -0.65585167]\n",
            " [ 1.27188474  0.22454485]\n",
            " [-0.15315506 -0.63197479]\n",
            " [-1.09395804 -0.6403571 ]\n",
            " [-0.91686571 -1.09229059]\n",
            " [-0.48520317  0.91037019]\n",
            " [ 0.20379666 -0.35485055]\n",
            " [-0.2610707  -0.58701513]\n",
            " [-0.28044017 -0.97895161]\n",
            " [-0.62909068 -0.2966824 ]\n",
            " [-0.5682152  -0.87175965]\n",
            " [ 1.74228623  0.85880628]\n",
            " [-0.52947625 -0.83950045]\n",
            " [-0.66782963 -0.8435646 ]\n",
            " [-0.38835581 -0.92179949]\n",
            " [-0.39665701 -0.5321491 ]\n",
            " [-0.21403055 -0.74373892]\n",
            " [ 1.650973    1.93834616]\n",
            " [-1.47636678 -0.65483563]\n",
            " [ 0.40025845  2.23807724]\n",
            " [ 0.21486493 -0.52325877]\n",
            " [-0.39942408 -0.5727906 ]\n",
            " [-0.76190993 -0.87810988]\n",
            " [ 0.53031063  0.70944877]\n",
            " [-0.80341594 -0.69319105]\n",
            " [ 0.78764791  1.26369724]\n",
            " [-0.19742814 -1.14738523]\n",
            " [ 0.59118612  0.96879235]\n",
            " [-0.35238393 -0.65254955]\n",
            " [-0.77574527 -0.59336536]\n",
            " [-0.10888198  0.45721745]\n",
            " [-0.16422333 -0.63908705]\n",
            " [ 0.01010193  0.93831122]\n",
            " [-0.69273324 -0.43410148]\n",
            " [-0.2776731  -0.73434057]\n",
            " [-0.65676136  0.05664465]\n",
            " [-1.08565683 -0.56415428]\n",
            " [-1.00817894 -0.97742755]\n",
            " [ 1.02284866  1.78340044]\n",
            " [-0.48797024  0.79504993]\n",
            " [-1.54831053 -1.06153006]\n",
            " [-0.43262889  0.02921164]\n",
            " [-0.78681354 -0.70766958]\n",
            " [-0.59588587 -1.04402881]\n",
            " [-0.70380151 -0.71173373]\n",
            " [-0.72317098 -0.92611765]\n",
            " [-1.15760059 -1.12858853]\n",
            " [ 0.15122237 -0.36348687]\n",
            " [ 0.05160794 -0.81841768]\n",
            " [ 0.20933079 -0.76710778]\n",
            " [-0.92793398 -1.25963197]\n",
            " [-0.12271732 -0.77269599]\n",
            " [ 1.03391693  0.16180454]\n",
            " [ 0.3449171   1.52685096]\n",
            " [-0.7729782   1.41254674]\n",
            " [-1.43458406 -0.14834092]\n",
            " [ 0.08757982 -0.51665453]\n",
            " [-0.11995025 -1.00722285]]\n"
          ]
        }
      ]
    },
    {
      "cell_type": "code",
      "source": [
        "#Feature Scaling\n",
        "from sklearn.preprocessing import StandardScaler\n",
        "sc = StandardScaler()\n",
        "X_train = sc.fit_transform(X_train)\n",
        "X_test = sc.transform(X_test)"
      ],
      "metadata": {
        "id": "Sl32JrnVPkcP"
      },
      "execution_count": 286,
      "outputs": []
    },
    {
      "cell_type": "code",
      "source": [
        "from sklearn.tree import DecisionTreeClassifier"
      ],
      "metadata": {
        "id": "j9Q_o_BDHIlJ"
      },
      "execution_count": 264,
      "outputs": []
    },
    {
      "cell_type": "code",
      "source": [
        "classifier_DT = DecisionTreeClassifier(max_depth=6, random_state=1)"
      ],
      "metadata": {
        "id": "AHZl7UGDHKCw"
      },
      "execution_count": 265,
      "outputs": []
    },
    {
      "cell_type": "code",
      "source": [
        "# Fit dt to the training set\n",
        "classifier_DT.fit(X_train, y_train)"
      ],
      "metadata": {
        "colab": {
          "base_uri": "https://localhost:8080/"
        },
        "id": "Fun8fGjsLsrK",
        "outputId": "c605a1af-616c-42f3-be5c-f4c9c63a26e7"
      },
      "execution_count": 266,
      "outputs": [
        {
          "output_type": "execute_result",
          "data": {
            "text/plain": [
              "DecisionTreeClassifier(max_depth=6, random_state=1)"
            ]
          },
          "metadata": {},
          "execution_count": 266
        }
      ]
    },
    {
      "cell_type": "code",
      "source": [
        "# Predict test set labels\n",
        "#y_pred = classifier_DT.predict(X_test)\n",
        "classifier_DT = classifier_DT.score(X_train, y_train)\n",
        "#print(y_pred[0:5])\n",
        "classifier_DT"
      ],
      "metadata": {
        "colab": {
          "base_uri": "https://localhost:8080/"
        },
        "id": "yrDath6sOkDZ",
        "outputId": "d008957a-7a32-4f9b-9df7-c456bc30305f"
      },
      "execution_count": 267,
      "outputs": [
        {
          "output_type": "execute_result",
          "data": {
            "text/plain": [
              "0.9582417582417583"
            ]
          },
          "metadata": {},
          "execution_count": 267
        }
      ]
    },
    {
      "cell_type": "code",
      "source": [
        "from sklearn.ensemble import RandomForestClassifier\n",
        "classifier_rf = RandomForestClassifier(n_estimators = 10, criterion = 'entropy', random_state = 0)"
      ],
      "metadata": {
        "id": "PHgJ06zgUB6t"
      },
      "execution_count": 268,
      "outputs": []
    },
    {
      "cell_type": "code",
      "source": [
        "classifier_rf.fit(X_train, y_train)"
      ],
      "metadata": {
        "colab": {
          "base_uri": "https://localhost:8080/"
        },
        "id": "B9rqHCl0UEm9",
        "outputId": "d92169a4-abce-4ded-b9ff-d3edf06d819c"
      },
      "execution_count": 269,
      "outputs": [
        {
          "output_type": "execute_result",
          "data": {
            "text/plain": [
              "RandomForestClassifier(criterion='entropy', n_estimators=10, random_state=0)"
            ]
          },
          "metadata": {},
          "execution_count": 269
        }
      ]
    },
    {
      "cell_type": "code",
      "source": [
        "# Predict test set labels\n",
        "#y_pred = classifier_rf.predict(X_test)\n",
        "classifier_rf = classifier_rf.score(X_train, y_train)\n",
        "#print(y_pred[0:5])\n",
        "classifier_rf"
      ],
      "metadata": {
        "colab": {
          "base_uri": "https://localhost:8080/"
        },
        "id": "tNmXHr1aUTc1",
        "outputId": "619adf38-df13-42b8-8ab1-da78f85abf34"
      },
      "execution_count": 270,
      "outputs": [
        {
          "output_type": "execute_result",
          "data": {
            "text/plain": [
              "0.9978021978021978"
            ]
          },
          "metadata": {},
          "execution_count": 270
        }
      ]
    },
    {
      "cell_type": "code",
      "source": [
        "from sklearn.ensemble import BaggingClassifier"
      ],
      "metadata": {
        "id": "k1tqkanmUoDV"
      },
      "execution_count": 287,
      "outputs": []
    },
    {
      "cell_type": "code",
      "source": [
        "classifier_bg=BaggingClassifier(base_estimator= None, oob_score=True, random_state=1)"
      ],
      "metadata": {
        "id": "X5dP4HvuVMn9"
      },
      "execution_count": 272,
      "outputs": []
    },
    {
      "cell_type": "code",
      "source": [
        "classifier_bg.fit(X_train, y_train)"
      ],
      "metadata": {
        "colab": {
          "base_uri": "https://localhost:8080/"
        },
        "id": "eTYweuKyV8K-",
        "outputId": "817c1b41-467e-49b0-d5bc-d442c1d28872"
      },
      "execution_count": 273,
      "outputs": [
        {
          "output_type": "stream",
          "name": "stderr",
          "text": [
            "/usr/local/lib/python3.7/dist-packages/sklearn/ensemble/_bagging.py:707: UserWarning: Some inputs do not have OOB scores. This probably means too few estimators were used to compute any reliable oob estimates.\n",
            "  \"Some inputs do not have OOB scores. \"\n",
            "/usr/local/lib/python3.7/dist-packages/sklearn/ensemble/_bagging.py:712: RuntimeWarning: invalid value encountered in true_divide\n",
            "  oob_decision_function = predictions / predictions.sum(axis=1)[:, np.newaxis]\n"
          ]
        },
        {
          "output_type": "execute_result",
          "data": {
            "text/plain": [
              "BaggingClassifier(oob_score=True, random_state=1)"
            ]
          },
          "metadata": {},
          "execution_count": 273
        }
      ]
    },
    {
      "cell_type": "code",
      "source": [
        "# Predict test set labels\n",
        "#y_pred = classifier_bg.predict(X_test)\n",
        "classifier_bg = classifier_bg.score(X_train, y_train)\n",
        "#print(y_pred[0:5])\n",
        "classifier_bg"
      ],
      "metadata": {
        "colab": {
          "base_uri": "https://localhost:8080/"
        },
        "id": "t1NRjKG8WKSF",
        "outputId": "7bdc42f7-a6a3-4021-b2ec-36580f19a4f1"
      },
      "execution_count": 274,
      "outputs": [
        {
          "output_type": "execute_result",
          "data": {
            "text/plain": [
              "0.9934065934065934"
            ]
          },
          "metadata": {},
          "execution_count": 274
        }
      ]
    },
    {
      "cell_type": "code",
      "source": [
        "from sklearn.tree import DecisionTreeClassifier"
      ],
      "metadata": {
        "id": "j8b9B-PqMDvQ"
      },
      "execution_count": 275,
      "outputs": []
    },
    {
      "cell_type": "code",
      "source": [
        "classifier_DT = DecisionTreeClassifier(max_depth=6, random_state=1)"
      ],
      "metadata": {
        "id": "ZHjlE28_MLbI"
      },
      "execution_count": 276,
      "outputs": []
    },
    {
      "cell_type": "code",
      "source": [
        "# Fit dt to the training set\n",
        "classifier_DT.fit(X_train, y_train)"
      ],
      "metadata": {
        "colab": {
          "base_uri": "https://localhost:8080/"
        },
        "id": "JrGkfbJPL_Pw",
        "outputId": "7a6f8c79-f781-4a81-f3a7-323b8cf00a5d"
      },
      "execution_count": 277,
      "outputs": [
        {
          "output_type": "execute_result",
          "data": {
            "text/plain": [
              "DecisionTreeClassifier(max_depth=6, random_state=1)"
            ]
          },
          "metadata": {},
          "execution_count": 277
        }
      ]
    },
    {
      "cell_type": "code",
      "source": [
        "# Predict test set labels\n",
        "y_pred = classifier_DT.predict(X_test)"
      ],
      "metadata": {
        "id": "dQSf8C5cKnH4"
      },
      "execution_count": 278,
      "outputs": []
    },
    {
      "cell_type": "code",
      "source": [
        "from sklearn.metrics import confusion_matrix\n",
        "\n",
        "#cm = np.array(confusion_matrix(y_test, y_pred, labels = [1, 0]))\n",
        "#confusion = pd.DataFrame(cm, index=['is_cancer', 'is_healthy'],\n",
        "#                         columns=['predicted_cancer', 'predicted_healthy'])\n",
        "#confusion\n",
        "cm = confusion_matrix(y_test, y_pred)\n",
        "cm"
      ],
      "metadata": {
        "colab": {
          "base_uri": "https://localhost:8080/"
        },
        "id": "0FcKBUV_zQPJ",
        "outputId": "6f936037-c26e-4a3b-eba7-542f0aa847ce"
      },
      "execution_count": 279,
      "outputs": [
        {
          "output_type": "execute_result",
          "data": {
            "text/plain": [
              "array([[70,  2],\n",
              "       [11, 31]])"
            ]
          },
          "metadata": {},
          "execution_count": 279
        }
      ]
    },
    {
      "cell_type": "code",
      "source": [
        "sns.heatmap(cm, annot=True)"
      ],
      "metadata": {
        "colab": {
          "base_uri": "https://localhost:8080/",
          "height": 287
        },
        "id": "YSqaCpXc0B_Y",
        "outputId": "2ee60a57-f3de-4270-d2ee-a2e8512571cd"
      },
      "execution_count": 280,
      "outputs": [
        {
          "output_type": "execute_result",
          "data": {
            "text/plain": [
              "<matplotlib.axes._subplots.AxesSubplot at 0x7f50d0a9a550>"
            ]
          },
          "metadata": {},
          "execution_count": 280
        },
        {
          "output_type": "display_data",
          "data": {
            "image/png": "[encoded data removed]",
            "text/plain": [
              "<Figure size 432x288 with 2 Axes>"
            ]
          },
          "metadata": {
            "needs_background": "light"
          }
        }
      ]
    },
    {
      "cell_type": "code",
      "source": [
        "from sklearn.ensemble import RandomForestClassifier\n",
        "classifier_rf = RandomForestClassifier(n_estimators = 10, criterion = 'entropy', random_state = 0)"
      ],
      "metadata": {
        "id": "hWK1s-nMN3eo"
      },
      "execution_count": 281,
      "outputs": []
    },
    {
      "cell_type": "code",
      "source": [
        "classifier_rf.fit(X_train, y_train)"
      ],
      "metadata": {
        "colab": {
          "base_uri": "https://localhost:8080/"
        },
        "id": "xKHOx5E-N5Am",
        "outputId": "36c2c9af-2f2e-4fc7-b26d-01da6f33a58f"
      },
      "execution_count": 282,
      "outputs": [
        {
          "output_type": "execute_result",
          "data": {
            "text/plain": [
              "RandomForestClassifier(criterion='entropy', n_estimators=10, random_state=0)"
            ]
          },
          "metadata": {},
          "execution_count": 282
        }
      ]
    },
    {
      "cell_type": "code",
      "source": [
        "# Predict test set labels\n",
        "y_pred = classifier_rf.predict(X_test)\n"
      ],
      "metadata": {
        "id": "Q_k9Rqq4N7sH"
      },
      "execution_count": 283,
      "outputs": []
    },
    {
      "cell_type": "code",
      "source": [
        "cm = confusion_matrix(y_test, y_pred)\n",
        "cm"
      ],
      "metadata": {
        "colab": {
          "base_uri": "https://localhost:8080/"
        },
        "id": "GyEATvO-OhfH",
        "outputId": "7c102ebb-a023-4b4e-af8d-4b630afe7270"
      },
      "execution_count": 284,
      "outputs": [
        {
          "output_type": "execute_result",
          "data": {
            "text/plain": [
              "array([[68,  4],\n",
              "       [ 8, 34]])"
            ]
          },
          "metadata": {},
          "execution_count": 284
        }
      ]
    },
    {
      "cell_type": "code",
      "source": [
        "sns.heatmap(cm, annot=True)"
      ],
      "metadata": {
        "colab": {
          "base_uri": "https://localhost:8080/",
          "height": 283
        },
        "id": "0r8LDh4dOlF3",
        "outputId": "e316f856-ff17-4edf-f20a-da187afee980"
      },
      "execution_count": 285,
      "outputs": [
        {
          "output_type": "execute_result",
          "data": {
            "text/plain": [
              "<matplotlib.axes._subplots.AxesSubplot at 0x7f50d0a94850>"
            ]
          },
          "metadata": {},
          "execution_count": 285
        },
        {
          "output_type": "display_data",
          "data": {
            "image/png": "[encoded data removed]",
            "text/plain": [
              "<Figure size 432x288 with 2 Axes>"
            ]
          },
          "metadata": {
            "needs_background": "light"
          }
        }
      ]
    },
    {
      "cell_type": "code",
      "source": [
        "from sklearn.ensemble import BaggingClassifier"
      ],
      "metadata": {
        "id": "qFODIbtZQDin"
      },
      "execution_count": 288,
      "outputs": []
    },
    {
      "cell_type": "code",
      "source": [
        "classifier_bg=BaggingClassifier(base_estimator= None, oob_score=True, random_state=1)"
      ],
      "metadata": {
        "id": "wkWEx8sTQDit"
      },
      "execution_count": 289,
      "outputs": []
    },
    {
      "cell_type": "code",
      "source": [
        "classifier_bg.fit(X_train, y_train)"
      ],
      "metadata": {
        "colab": {
          "base_uri": "https://localhost:8080/"
        },
        "outputId": "1c4daab8-7575-4b32-89e3-1f0945797ab1",
        "id": "O4wP5evwQDiu"
      },
      "execution_count": 290,
      "outputs": [
        {
          "output_type": "stream",
          "name": "stderr",
          "text": [
            "/usr/local/lib/python3.7/dist-packages/sklearn/ensemble/_bagging.py:707: UserWarning: Some inputs do not have OOB scores. This probably means too few estimators were used to compute any reliable oob estimates.\n",
            "  \"Some inputs do not have OOB scores. \"\n",
            "/usr/local/lib/python3.7/dist-packages/sklearn/ensemble/_bagging.py:712: RuntimeWarning: invalid value encountered in true_divide\n",
            "  oob_decision_function = predictions / predictions.sum(axis=1)[:, np.newaxis]\n"
          ]
        },
        {
          "output_type": "execute_result",
          "data": {
            "text/plain": [
              "BaggingClassifier(oob_score=True, random_state=1)"
            ]
          },
          "metadata": {},
          "execution_count": 290
        }
      ]
    },
    {
      "cell_type": "code",
      "source": [
        "# Predict test set labels\n",
        "y_pred = classifier_bg.predict(X_test)\n",
        "#classifier_bg = classifier_bg.score(X_train, y_train)\n",
        "#print(y_pred[0:5])\n",
        "#classifier_bg"
      ],
      "metadata": {
        "id": "rzyM28XvQDiu"
      },
      "execution_count": 294,
      "outputs": []
    },
    {
      "cell_type": "code",
      "source": [
        "cm = confusion_matrix(y_test, y_pred)\n",
        "cm"
      ],
      "metadata": {
        "colab": {
          "base_uri": "https://localhost:8080/"
        },
        "outputId": "90da5fc6-eaa3-4143-8965-a88a4ad58ea2",
        "id": "8BvnI323QUMZ"
      },
      "execution_count": 295,
      "outputs": [
        {
          "output_type": "execute_result",
          "data": {
            "text/plain": [
              "array([[69,  3],\n",
              "       [ 7, 35]])"
            ]
          },
          "metadata": {},
          "execution_count": 295
        }
      ]
    },
    {
      "cell_type": "code",
      "source": [
        "sns.heatmap(cm, annot=True)"
      ],
      "metadata": {
        "colab": {
          "base_uri": "https://localhost:8080/",
          "height": 283
        },
        "outputId": "fccb240c-70ae-4bd2-c31e-493539a40833",
        "id": "xbKlRhClQUMa"
      },
      "execution_count": 296,
      "outputs": [
        {
          "output_type": "execute_result",
          "data": {
            "text/plain": [
              "<matplotlib.axes._subplots.AxesSubplot at 0x7f50d0d6bbd0>"
            ]
          },
          "metadata": {},
          "execution_count": 296
        },
        {
          "output_type": "display_data",
          "data": {
            "image/png": "[encoded data removed]",
            "text/plain": [
              "<Figure size 432x288 with 2 Axes>"
            ]
          },
          "metadata": {
            "needs_background": "light"
          }
        }
      ]
    }
  ]
}